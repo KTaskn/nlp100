{
 "cells": [
  {
   "cell_type": "code",
   "execution_count": 1,
   "metadata": {},
   "outputs": [
    {
     "data": {
      "text/plain": [
       "'desserts'"
      ]
     },
     "execution_count": 1,
     "metadata": {},
     "output_type": "execute_result"
    }
   ],
   "source": [
    "# 000\n",
    "text = 'stressed'\n",
    "text[::-1]"
   ]
  },
  {
   "cell_type": "code",
   "execution_count": 2,
   "metadata": {},
   "outputs": [
    {
     "data": {
      "text/plain": [
       "'パトカー'"
      ]
     },
     "execution_count": 2,
     "metadata": {},
     "output_type": "execute_result"
    }
   ],
   "source": [
    "# 001\n",
    "text = 'パタトクカシーー'\n",
    "text[::2]"
   ]
  },
  {
   "cell_type": "code",
   "execution_count": 3,
   "metadata": {},
   "outputs": [
    {
     "data": {
      "text/plain": [
       "'パタトクカシーー'"
      ]
     },
     "execution_count": 3,
     "metadata": {},
     "output_type": "execute_result"
    }
   ],
   "source": [
    "# 002\n",
    "text_1 = 'パトカー'\n",
    "text_2 = 'タクシー'\n",
    "''.join(map(lambda x: x[0] + x[1], zip(text_1, text_2)))"
   ]
  },
  {
   "cell_type": "code",
   "execution_count": 4,
   "metadata": {},
   "outputs": [
    {
     "data": {
      "text/plain": [
       "[3, 1, 4, 1, 5, 9, 2, 6, 5, 3, 5, 8, 9, 7, 9]"
      ]
     },
     "execution_count": 4,
     "metadata": {},
     "output_type": "execute_result"
    }
   ],
   "source": [
    "# 003\n",
    "text = 'Now I need a drink, alcoholic of course, after the heavy lectures involving quantum mechanics.'\n",
    "list(map(lambda x: len(x), text.replace(',', '').replace('.', '').split(' ')))"
   ]
  },
  {
   "cell_type": "code",
   "execution_count": 5,
   "metadata": {},
   "outputs": [
    {
     "data": {
      "text/plain": [
       "{1: 'H',\n",
       " 2: 'He',\n",
       " 3: 'Li',\n",
       " 4: 'Be',\n",
       " 5: 'B',\n",
       " 6: 'C',\n",
       " 7: 'N',\n",
       " 8: 'O',\n",
       " 9: 'F',\n",
       " 10: 'Ne',\n",
       " 11: 'Na',\n",
       " 12: 'Mi',\n",
       " 13: 'Al',\n",
       " 14: 'Si',\n",
       " 15: 'P',\n",
       " 16: 'S',\n",
       " 17: 'Cl',\n",
       " 18: 'Ar',\n",
       " 19: 'K',\n",
       " 20: 'Ca'}"
      ]
     },
     "execution_count": 5,
     "metadata": {},
     "output_type": "execute_result"
    }
   ],
   "source": [
    "# 004\n",
    "text = 'Hi He Lied Because Boron Could Not Oxidize Fluorine. New Nations Might Also Sign Peace Security Clause. Arthur King Can.'\n",
    "pattern_1 = [1, 5, 6, 7, 8, 9, 15, 16, 19]\n",
    "\n",
    "output = {}\n",
    "for idx, word in enumerate(text.split(' ')):\n",
    "    if idx + 1 in pattern_1:\n",
    "        output[idx + 1] = word[:1]\n",
    "    else:        \n",
    "        output[idx + 1] = word[:2]\n",
    "        \n",
    "output"
   ]
  },
  {
   "cell_type": "code",
   "execution_count": 6,
   "metadata": {},
   "outputs": [
    {
     "data": {
      "text/plain": [
       "[('I', 'am'), ('am', 'an'), ('an', 'NLPer')]"
      ]
     },
     "metadata": {},
     "output_type": "display_data"
    },
    {
     "data": {
      "text/plain": [
       "[('I', ' '),\n",
       " (' ', 'a'),\n",
       " ('a', 'm'),\n",
       " ('m', ' '),\n",
       " (' ', 'a'),\n",
       " ('a', 'n'),\n",
       " ('n', ' '),\n",
       " (' ', 'N'),\n",
       " ('N', 'L'),\n",
       " ('L', 'P'),\n",
       " ('P', 'e'),\n",
       " ('e', 'r')]"
      ]
     },
     "metadata": {},
     "output_type": "display_data"
    }
   ],
   "source": [
    "# 005\n",
    "def bigram(l):\n",
    "    return list(zip(l[:-1], l[1:]))\n",
    "\n",
    "text = 'I am an NLPer'\n",
    "display(bigram(text.split(' ')))\n",
    "display(bigram(text))"
   ]
  },
  {
   "cell_type": "code",
   "execution_count": 7,
   "metadata": {},
   "outputs": [
    {
     "data": {
      "text/plain": [
       "[('p', 'a'),\n",
       " ('a', 'r'),\n",
       " ('r', 'a'),\n",
       " ('a', 'p'),\n",
       " ('p', 'a'),\n",
       " ('a', 'r'),\n",
       " ('r', 'a'),\n",
       " ('a', 'p'),\n",
       " ('p', 'a'),\n",
       " ('a', 'r'),\n",
       " ('r', 'a'),\n",
       " ('a', 'd'),\n",
       " ('d', 'i'),\n",
       " ('i', 's'),\n",
       " ('s', 'e')]"
      ]
     },
     "metadata": {},
     "output_type": "display_data"
    },
    {
     "data": {
      "text/plain": [
       "[('p', 'a'),\n",
       " ('a', 'r'),\n",
       " ('r', 'a'),\n",
       " ('a', 'g'),\n",
       " ('g', 'r'),\n",
       " ('r', 'a'),\n",
       " ('a', 'p'),\n",
       " ('p', 'h')]"
      ]
     },
     "metadata": {},
     "output_type": "display_data"
    },
    {
     "data": {
      "text/plain": [
       "{('a', 'd'),\n",
       " ('a', 'g'),\n",
       " ('a', 'p'),\n",
       " ('a', 'r'),\n",
       " ('d', 'i'),\n",
       " ('g', 'r'),\n",
       " ('i', 's'),\n",
       " ('p', 'a'),\n",
       " ('p', 'h'),\n",
       " ('r', 'a'),\n",
       " ('s', 'e')}"
      ]
     },
     "metadata": {},
     "output_type": "display_data"
    },
    {
     "data": {
      "text/plain": [
       "{('a', 'p'), ('a', 'r'), ('p', 'a'), ('r', 'a')}"
      ]
     },
     "metadata": {},
     "output_type": "display_data"
    },
    {
     "data": {
      "text/plain": [
       "{('a', 'd'), ('d', 'i'), ('i', 's'), ('s', 'e')}"
      ]
     },
     "metadata": {},
     "output_type": "display_data"
    },
    {
     "data": {
      "text/plain": [
       "{('s', 'e')}"
      ]
     },
     "metadata": {},
     "output_type": "display_data"
    }
   ],
   "source": [
    "# 006\n",
    "text_1 = 'paraparaparadise'\n",
    "text_2 = 'paragraph'\n",
    "\n",
    "X = bigram(text_1)\n",
    "display(X)\n",
    "Y = bigram(text_2)\n",
    "display(Y)\n",
    "\n",
    "display(set(X) | set(Y))\n",
    "display(set(X) & set(Y))\n",
    "display(set(X) - set(Y))\n",
    "\n",
    "display((set(X) | set(Y)) & set([('s', 'e')]))"
   ]
  },
  {
   "cell_type": "code",
   "execution_count": 8,
   "metadata": {},
   "outputs": [
    {
     "data": {
      "text/plain": [
       "'12時の気温は22.4'"
      ]
     },
     "execution_count": 8,
     "metadata": {},
     "output_type": "execute_result"
    }
   ],
   "source": [
    "# 007\n",
    "def func(x, y, z):\n",
    "    return '{x}時の{y}は{z}'.format(x=x, y=y, z=z)\n",
    "\n",
    "func(12, '気温', 22.4)"
   ]
  },
  {
   "cell_type": "code",
   "execution_count": 9,
   "metadata": {},
   "outputs": [
    {
     "data": {
      "text/plain": [
       "'H108100 122105118 98108102?'"
      ]
     },
     "execution_count": 9,
     "metadata": {},
     "output_type": "execute_result"
    }
   ],
   "source": [
    "# 008\n",
    "import re\n",
    "def cipher(char):\n",
    "    x = ord(char)\n",
    "    if x >= ord('a') and ord('z'):\n",
    "        return str(219 - int(x))\n",
    "    else:\n",
    "        return char\n",
    "    \n",
    "''.join(list(map(cipher, 'How are you?')))"
   ]
  },
  {
   "cell_type": "code",
   "execution_count": 10,
   "metadata": {},
   "outputs": [
    {
     "data": {
      "text/plain": [
       "\"I conlud't beeivle that I cloud aalutlcy utndrnsaed what I was rdneiag : the pmnnaheeol poewr of the human mind .\""
      ]
     },
     "execution_count": 10,
     "metadata": {},
     "output_type": "execute_result"
    }
   ],
   "source": [
    "# 009\n",
    "from random import randint\n",
    "def choice(l):\n",
    "    l = list(l)\n",
    "    output = []\n",
    "    for ent in range(len(l)):\n",
    "        num = randint(0, len(l) - 1)\n",
    "        output += [l[num]]\n",
    "        l.pop(num)\n",
    "    return ''.join(output)\n",
    "\n",
    "def shuffle(word):\n",
    "    if len(word) > 4:\n",
    "        return word[0] + choice(word[1:-1]) + word[-1]\n",
    "    else:\n",
    "        return word\n",
    "    \n",
    "text = \"I couldn't believe that I could actually understand what I was reading : the phenomenal power of the human mind .\"\n",
    "' '.join(list(map(shuffle, text.split(' '))))"
   ]
  }
 ],
 "metadata": {
  "kernelspec": {
   "display_name": "Python 3",
   "language": "python",
   "name": "python3"
  },
  "language_info": {
   "codemirror_mode": {
    "name": "ipython",
    "version": 3
   },
   "file_extension": ".py",
   "mimetype": "text/x-python",
   "name": "python",
   "nbconvert_exporter": "python",
   "pygments_lexer": "ipython3",
   "version": "3.7.4"
  }
 },
 "nbformat": 4,
 "nbformat_minor": 2
}
