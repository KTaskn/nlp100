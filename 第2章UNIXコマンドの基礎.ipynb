{
 "cells": [
  {
   "cell_type": "code",
   "execution_count": 1,
   "metadata": {},
   "outputs": [],
   "source": [
    "# 01x 準備\n",
    "with open('hightemp.txt') as f:\n",
    "    text = f.read()"
   ]
  },
  {
   "cell_type": "code",
   "execution_count": 2,
   "metadata": {},
   "outputs": [],
   "source": [
    "# 010\n",
    "print(len(text.strip().split('\\n')))\n",
    "\n",
    "! wc -l hightemp.txt"
   ]
  },
  {
   "cell_type": "code",
   "execution_count": 3,
   "metadata": {},
   "outputs": [
    {
     "name": "stdout",
     "output_type": "stream",
     "text": [
      "高知県 江川崎 41 2013-08-12\n",
      "埼玉県 熊谷 40.9 2007-08-16\n",
      "岐阜県 多治見 40.9 2007-08-16\n",
      "山形県 山形 40.8 1933-07-25\n",
      "山梨県 甲府 40.7 2013-08-10\n",
      "和歌山県 かつらぎ 40.6 1994-08-08\n",
      "静岡県 天竜 40.6 1994-08-04\n",
      "山梨県 勝沼 40.5 2013-08-10\n",
      "埼玉県 越谷 40.4 2007-08-16\n",
      "群馬県 館林 40.3 2007-08-16\n",
      "群馬県 上里見 40.3 1998-07-04\n",
      "愛知県 愛西 40.3 1994-08-05\n",
      "千葉県 牛久 40.2 2004-07-20\n",
      "静岡県 佐久間 40.2 2001-07-24\n",
      "愛媛県 宇和島 40.2 1927-07-22\n",
      "山形県 酒田 40.1 1978-08-03\n",
      "岐阜県 美濃 40 2007-08-16\n",
      "群馬県 前橋 40 2001-07-24\n",
      "千葉県 茂原 39.9 2013-08-11\n",
      "埼玉県 鳩山 39.9 1997-07-05\n",
      "大阪府 豊中 39.9 1994-08-08\n",
      "山梨県 大月 39.9 1990-07-19\n",
      "山形県 鶴岡 39.9 1978-08-03\n",
      "愛知県 名古屋 39.9 1942-08-02\n",
      "\n",
      "高知県 江川崎 41 2013-08-12\r\n",
      "埼玉県 熊谷 40.9 2007-08-16\r\n",
      "岐阜県 多治見 40.9 2007-08-16\r\n",
      "山形県 山形 40.8 1933-07-25\r\n",
      "山梨県 甲府 40.7 2013-08-10\r\n",
      "和歌山県 かつらぎ 40.6 1994-08-08\r\n",
      "静岡県 天竜 40.6 1994-08-04\r\n",
      "山梨県 勝沼 40.5 2013-08-10\r\n",
      "埼玉県 越谷 40.4 2007-08-16\r\n",
      "群馬県 館林 40.3 2007-08-16\r\n",
      "群馬県 上里見 40.3 1998-07-04\r\n",
      "愛知県 愛西 40.3 1994-08-05\r\n",
      "千葉県 牛久 40.2 2004-07-20\r\n",
      "静岡県 佐久間 40.2 2001-07-24\r\n",
      "愛媛県 宇和島 40.2 1927-07-22\r\n",
      "山形県 酒田 40.1 1978-08-03\r\n",
      "岐阜県 美濃 40 2007-08-16\r\n",
      "群馬県 前橋 40 2001-07-24\r\n",
      "千葉県 茂原 39.9 2013-08-11\r\n",
      "埼玉県 鳩山 39.9 1997-07-05\r\n",
      "大阪府 豊中 39.9 1994-08-08\r\n",
      "山梨県 大月 39.9 1990-07-19\r\n",
      "山形県 鶴岡 39.9 1978-08-03\r\n",
      "愛知県 名古屋 39.9 1942-08-02\r\n"
     ]
    }
   ],
   "source": [
    "# 011\n",
    "print(text.strip().replace('\\t', ' '))\n",
    "\n",
    "print()\n",
    "\n",
    "# macのsedだとtabの指定がつらい。。\n",
    "\n",
    "! expand -t 1 hightemp.txt"
   ]
  },
  {
   "cell_type": "code",
   "execution_count": 4,
   "metadata": {},
   "outputs": [
    {
     "name": "stdout",
     "output_type": "stream",
     "text": [
      "高知県\n",
      "埼玉県\n",
      "岐阜県\n",
      "山形県\n",
      "山梨県\n",
      "和歌山県\n",
      "静岡県\n",
      "山梨県\n",
      "埼玉県\n",
      "群馬県\n",
      "群馬県\n",
      "愛知県\n",
      "千葉県\n",
      "静岡県\n",
      "愛媛県\n",
      "山形県\n",
      "岐阜県\n",
      "群馬県\n",
      "千葉県\n",
      "埼玉県\n",
      "大阪府\n",
      "山梨県\n",
      "山形県\n",
      "愛知県\n",
      "江川崎\n",
      "熊谷\n",
      "多治見\n",
      "山形\n",
      "甲府\n",
      "かつらぎ\n",
      "天竜\n",
      "勝沼\n",
      "越谷\n",
      "館林\n",
      "上里見\n",
      "愛西\n",
      "牛久\n",
      "佐久間\n",
      "宇和島\n",
      "酒田\n",
      "美濃\n",
      "前橋\n",
      "茂原\n",
      "鳩山\n",
      "豊中\n",
      "大月\n",
      "鶴岡\n",
      "名古屋\n",
      "高知県\n",
      "埼玉県\n",
      "岐阜県\n",
      "山形県\n",
      "山梨県\n",
      "和歌山県\n",
      "静岡県\n",
      "山梨県\n",
      "埼玉県\n",
      "群馬県\n",
      "群馬県\n",
      "愛知県\n",
      "千葉県\n",
      "静岡県\n",
      "愛媛県\n",
      "山形県\n",
      "岐阜県\n",
      "群馬県\n",
      "千葉県\n",
      "埼玉県\n",
      "大阪府\n",
      "山梨県\n",
      "山形県\n",
      "愛知県\n",
      "\n",
      "江川崎\n",
      "熊谷\n",
      "多治見\n",
      "山形\n",
      "甲府\n",
      "かつらぎ\n",
      "天竜\n",
      "勝沼\n",
      "越谷\n",
      "館林\n",
      "上里見\n",
      "愛西\n",
      "牛久\n",
      "佐久間\n",
      "宇和島\n",
      "酒田\n",
      "美濃\n",
      "前橋\n",
      "茂原\n",
      "鳩山\n",
      "豊中\n",
      "大月\n",
      "鶴岡\n",
      "名古屋\n"
     ]
    }
   ],
   "source": [
    "# 012\n",
    "# ファイル出力は省略\n",
    "print('\\n'.join(list(map(lambda x: x.split('\\t')[0], text.strip().split('\\n')))))\n",
    "print('\\n'.join(list(map(lambda x: x.split('\\t')[1], text.strip().split('\\n')))))\n",
    "\n",
    "! cut -f 1 hightemp.txt\n",
    "\n",
    "print()\n",
    "\n",
    "! cut -f 2 hightemp.txt"
   ]
  },
  {
   "cell_type": "code",
   "execution_count": 5,
   "metadata": {},
   "outputs": [
    {
     "name": "stdout",
     "output_type": "stream",
     "text": [
      "高知県\t江川崎\n",
      "埼玉県\t熊谷\n",
      "岐阜県\t多治見\n",
      "山形県\t山形\n",
      "山梨県\t甲府\n",
      "和歌山県\tかつらぎ\n",
      "静岡県\t天竜\n",
      "山梨県\t勝沼\n",
      "埼玉県\t越谷\n",
      "群馬県\t館林\n",
      "群馬県\t上里見\n",
      "愛知県\t愛西\n",
      "千葉県\t牛久\n",
      "静岡県\t佐久間\n",
      "愛媛県\t宇和島\n",
      "山形県\t酒田\n",
      "岐阜県\t美濃\n",
      "群馬県\t前橋\n",
      "千葉県\t茂原\n",
      "埼玉県\t鳩山\n",
      "大阪府\t豊中\n",
      "山梨県\t大月\n",
      "山形県\t鶴岡\n",
      "愛知県\t名古屋\n",
      "\n",
      "高知県\t江川崎\n",
      "埼玉県\t熊谷\n",
      "岐阜県\t多治見\n",
      "山形県\t山形\n",
      "山梨県\t甲府\n",
      "和歌山県\tかつらぎ\n",
      "静岡県\t天竜\n",
      "山梨県\t勝沼\n",
      "埼玉県\t越谷\n",
      "群馬県\t館林\n",
      "群馬県\t上里見\n",
      "愛知県\t愛西\n",
      "千葉県\t牛久\n",
      "静岡県\t佐久間\n",
      "愛媛県\t宇和島\n",
      "山形県\t酒田\n",
      "岐阜県\t美濃\n",
      "群馬県\t前橋\n",
      "千葉県\t茂原\n",
      "埼玉県\t鳩山\n",
      "大阪府\t豊中\n",
      "山梨県\t大月\n",
      "山形県\t鶴岡\n",
      "愛知県\t名古屋\n"
     ]
    }
   ],
   "source": [
    "#013\n",
    "text_1 = '\\n'.join(list(map(lambda x: x.split('\\t')[0], text.strip().split('\\n'))))\n",
    "text_2 = '\\n'.join(list(map(lambda x: x.split('\\t')[1], text.strip().split('\\n'))))\n",
    "\n",
    "text_merge = ''\n",
    "for word_1, word_2 in zip(text_1.split('\\n'), text_2.split('\\n')):\n",
    "        text_merge += '%s\\t%s\\n' % (word_1, word_2)\n",
    "print(text_merge)\n",
    "\n",
    "! cut -f 1 hightemp.txt > text1.txt\n",
    "! cut -f 2 hightemp.txt > text2.txt\n",
    "! paste text1.txt text2.txt"
   ]
  },
  {
   "cell_type": "code",
   "execution_count": 6,
   "metadata": {},
   "outputs": [
    {
     "name": "stdout",
     "output_type": "stream",
     "text": [
      "高知県\t江川崎\t41\t2013-08-12\n",
      "埼玉県\t熊谷\t40.9\t2007-08-16\n",
      "岐阜県\t多治見\t40.9\t2007-08-16\n",
      "山形県\t山形\t40.8\t1933-07-25\n",
      "\n",
      "高知県\t江川崎\t41\t2013-08-12\r\n",
      "埼玉県\t熊谷\t40.9\t2007-08-16\r\n",
      "岐阜県\t多治見\t40.9\t2007-08-16\r\n",
      "山形県\t山形\t40.8\t1933-07-25\r\n"
     ]
    }
   ],
   "source": [
    "# 014\n",
    "def head(text, num):\n",
    "    return '\\n'.join(text.split('\\n')[:num])\n",
    "\n",
    "print(head(text, 4))\n",
    "print()\n",
    "\n",
    "! head -4 hightemp.txt"
   ]
  },
  {
   "cell_type": "code",
   "execution_count": 7,
   "metadata": {},
   "outputs": [
    {
     "name": "stdout",
     "output_type": "stream",
     "text": [
      "大阪府\t豊中\t39.9\t1994-08-08\n",
      "山梨県\t大月\t39.9\t1990-07-19\n",
      "山形県\t鶴岡\t39.9\t1978-08-03\n",
      "愛知県\t名古屋\t39.9\t1942-08-02\n",
      "\n",
      "大阪府\t豊中\t39.9\t1994-08-08\r\n",
      "山梨県\t大月\t39.9\t1990-07-19\r\n",
      "山形県\t鶴岡\t39.9\t1978-08-03\r\n",
      "愛知県\t名古屋\t39.9\t1942-08-02\r\n"
     ]
    }
   ],
   "source": [
    "# 015\n",
    "def tail(text, num):\n",
    "    return '\\n'.join(text.strip().split('\\n')[-num:])\n",
    "\n",
    "print(tail(text, 4))\n",
    "print()\n",
    "\n",
    "! tail -4 hightemp.txt"
   ]
  },
  {
   "cell_type": "code",
   "execution_count": 8,
   "metadata": {},
   "outputs": [
    {
     "name": "stdout",
     "output_type": "stream",
     "text": [
      "['高知県\\t江川崎\\t41\\t2013-08-12埼玉県\\t熊谷\\t40.9\\t2007-08-16岐阜県\\t多治見\\t40.9\\t2007-08-16', '山形県\\t山形\\t40.8\\t1933-07-25山梨県\\t甲府\\t40.7\\t2013-08-10和歌山県\\tかつらぎ\\t40.6\\t1994-08-08', '静岡県\\t天竜\\t40.6\\t1994-08-04山梨県\\t勝沼\\t40.5\\t2013-08-10埼玉県\\t越谷\\t40.4\\t2007-08-16', '群馬県\\t館林\\t40.3\\t2007-08-16群馬県\\t上里見\\t40.3\\t1998-07-04愛知県\\t愛西\\t40.3\\t1994-08-05', '千葉県\\t牛久\\t40.2\\t2004-07-20静岡県\\t佐久間\\t40.2\\t2001-07-24愛媛県\\t宇和島\\t40.2\\t1927-07-22', '山形県\\t酒田\\t40.1\\t1978-08-03岐阜県\\t美濃\\t40\\t2007-08-16群馬県\\t前橋\\t40\\t2001-07-24', '千葉県\\t茂原\\t39.9\\t2013-08-11埼玉県\\t鳩山\\t39.9\\t1997-07-05大阪府\\t豊中\\t39.9\\t1994-08-08', '山梨県\\t大月\\t39.9\\t1990-07-19山形県\\t鶴岡\\t39.9\\t1978-08-03愛知県\\t名古屋\\t39.9\\t1942-08-02']\n",
      "\n"
     ]
    }
   ],
   "source": [
    "# 016\n",
    "def split(text, num):\n",
    "    output = []\n",
    "    l_text = text.strip().split('\\n')\n",
    "    for i in range(int(len(l_text) / num)):\n",
    "        output += [\n",
    "            ''.join(l_text[i * num : i * num + num])\n",
    "        ]\n",
    "    return output\n",
    "\n",
    "# ファイル出力は省略\n",
    "print(split(text, 3))\n",
    "print()\n",
    "\n",
    "! split -l 3 hightemp.txt splittxt"
   ]
  },
  {
   "cell_type": "code",
   "execution_count": 9,
   "metadata": {},
   "outputs": [
    {
     "name": "stdout",
     "output_type": "stream",
     "text": [
      "{'静岡県', '埼玉県', '山梨県', '岐阜県', '千葉県', '和歌山県', '大阪府', '愛媛県', '群馬県', '愛知県', '高知県', '山形県'}\n",
      "\n",
      "千葉県\r\n",
      "埼玉県\r\n",
      "大阪府\r\n",
      "山形県\r\n",
      "山梨県\r\n",
      "岐阜県\r\n",
      "愛媛県\r\n",
      "愛知県\r\n",
      "群馬県\r\n",
      "静岡県\r\n",
      "高知県\r\n",
      "和歌山県\r\n"
     ]
    }
   ],
   "source": [
    "# 017\n",
    "print(set(list(map(lambda x: x.split('\\t')[0], text.strip().split('\\n')))))\n",
    "print()\n",
    "\n",
    "! cut -f 1 hightemp.txt | sort | uniq"
   ]
  },
  {
   "cell_type": "code",
   "execution_count": 10,
   "metadata": {},
   "outputs": [
    {
     "name": "stdout",
     "output_type": "stream",
     "text": [
      "['41', '40.9', '40.9', '40.8', '40.7', '40.6', '40.6', '40.5', '40.4', '40.3', '40.3', '40.3', '40.2', '40.2', '40.2', '40.1', '40', '40', '39.9', '39.9', '39.9', '39.9', '39.9', '39.9']\n",
      "\n",
      "41\r\n",
      "40.9\r\n",
      "40.9\r\n",
      "40.8\r\n",
      "40.7\r\n",
      "40.6\r\n",
      "40.6\r\n",
      "40.5\r\n",
      "40.4\r\n",
      "40.3\r\n",
      "40.3\r\n",
      "40.3\r\n",
      "40.2\r\n",
      "40.2\r\n",
      "40.2\r\n",
      "40.1\r\n",
      "40\r\n",
      "40\r\n",
      "39.9\r\n",
      "39.9\r\n",
      "39.9\r\n",
      "39.9\r\n",
      "39.9\r\n",
      "39.9\r\n"
     ]
    }
   ],
   "source": [
    "# 018\n",
    "print(sorted(list(map(lambda x: x.split('\\t')[2], text.strip().split('\\n'))), reverse=True))\n",
    "print()\n",
    "\n",
    "! cut -f 3 hightemp.txt | sort -r"
   ]
  },
  {
   "cell_type": "code",
   "execution_count": 11,
   "metadata": {},
   "outputs": [
    {
     "name": "stdout",
     "output_type": "stream",
     "text": [
      "Counter({'埼玉県': 3, '山形県': 3, '山梨県': 3, '群馬県': 3, '岐阜県': 2, '静岡県': 2, '愛知県': 2, '千葉県': 2, '高知県': 1, '和歌山県': 1, '愛媛県': 1, '大阪府': 1})\n",
      "\n",
      "   3 群馬県\r\n",
      "   3 山梨県\r\n",
      "   3 山形県\r\n",
      "   3 埼玉県\r\n",
      "   2 静岡県\r\n",
      "   2 愛知県\r\n",
      "   2 岐阜県\r\n",
      "   2 千葉県\r\n",
      "   1 和歌山県\r\n",
      "   1 高知県\r\n",
      "   1 愛媛県\r\n",
      "   1 大阪府\r\n"
     ]
    }
   ],
   "source": [
    "# 019\n",
    "import collections\n",
    "\n",
    "print(collections.Counter(list(map(lambda x: x.split('\\t')[0], text.strip().split('\\n')))))\n",
    "print()\n",
    "\n",
    "\n",
    "! cut -f 1 hightemp.txt | sort | uniq -c | sort -r"
   ]
  }
 ],
 "metadata": {
  "kernelspec": {
   "display_name": "Python 3",
   "language": "python",
   "name": "python3"
  },
  "language_info": {
   "codemirror_mode": {
    "name": "ipython",
    "version": 3
   },
   "file_extension": ".py",
   "mimetype": "text/x-python",
   "name": "python",
   "nbconvert_exporter": "python",
   "pygments_lexer": "ipython3",
   "version": "3.7.4"
  }
 },
 "nbformat": 4,
 "nbformat_minor": 2
}
